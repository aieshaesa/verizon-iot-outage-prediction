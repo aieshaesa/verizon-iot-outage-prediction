{
 "cells": [
  {
   "cell_type": "code",
   "execution_count": 24,
   "metadata": {},
   "outputs": [],
   "source": [
    "import pandas as pd\n",
    "import seaborn as sns\n",
    "import matplotlib.pyplot as plt\n",
    "\n",
    "import scipy.stats as stats\n"
   ]
  },
  {
   "cell_type": "code",
   "execution_count": 25,
   "metadata": {},
   "outputs": [],
   "source": [
    "train_file = pd.read_csv('iot-datasets/train.csv')\n",
    "test_file = pd.read_csv('iot-datasets/test.csv')\n",
    "severity_type = pd.read_csv('iot-datasets/severity_type.csv')\n",
    "event_type = pd.read_csv('iot-datasets/event_type.csv')\n",
    "log_feature = pd.read_csv('iot-datasets/log_feature.csv')\n",
    "resource_type = pd.read_csv('iot-datasets/resource_type.csv')\n",
    "location = train_file[['id','location']]\n",
    "train_file = train_file.drop('location',axis=1)\n"
   ]
  },
  {
   "cell_type": "code",
   "execution_count": 26,
   "metadata": {},
   "outputs": [],
   "source": [
    "dataset_ = {\n",
    "    'train': train_file,\n",
    "    'test': test_file,\n",
    "    'severity_type':severity_type,\n",
    "    'event_type':event_type,\n",
    "    'log_feature':log_feature,\n",
    "    'resource_type':resource_type,\n",
    "    'location':location\n",
    "}\n"
   ]
  },
  {
   "cell_type": "code",
   "execution_count": 27,
   "metadata": {},
   "outputs": [
    {
     "data": {
      "text/html": [
       "<div>\n",
       "<style scoped>\n",
       "    .dataframe tbody tr th:only-of-type {\n",
       "        vertical-align: middle;\n",
       "    }\n",
       "\n",
       "    .dataframe tbody tr th {\n",
       "        vertical-align: top;\n",
       "    }\n",
       "\n",
       "    .dataframe thead th {\n",
       "        text-align: right;\n",
       "    }\n",
       "</style>\n",
       "<table border=\"1\" class=\"dataframe\">\n",
       "  <thead>\n",
       "    <tr style=\"text-align: right;\">\n",
       "      <th></th>\n",
       "      <th>id</th>\n",
       "      <th>fault_severity</th>\n",
       "    </tr>\n",
       "  </thead>\n",
       "  <tbody>\n",
       "    <tr>\n",
       "      <th>0</th>\n",
       "      <td>14121</td>\n",
       "      <td>1</td>\n",
       "    </tr>\n",
       "    <tr>\n",
       "      <th>1</th>\n",
       "      <td>9320</td>\n",
       "      <td>0</td>\n",
       "    </tr>\n",
       "    <tr>\n",
       "      <th>2</th>\n",
       "      <td>14394</td>\n",
       "      <td>1</td>\n",
       "    </tr>\n",
       "    <tr>\n",
       "      <th>3</th>\n",
       "      <td>8218</td>\n",
       "      <td>1</td>\n",
       "    </tr>\n",
       "    <tr>\n",
       "      <th>4</th>\n",
       "      <td>14804</td>\n",
       "      <td>0</td>\n",
       "    </tr>\n",
       "  </tbody>\n",
       "</table>\n",
       "</div>"
      ],
      "text/plain": [
       "      id  fault_severity\n",
       "0  14121               1\n",
       "1   9320               0\n",
       "2  14394               1\n",
       "3   8218               1\n",
       "4  14804               0"
      ]
     },
     "execution_count": 27,
     "metadata": {},
     "output_type": "execute_result"
    }
   ],
   "source": [
    "dataset_['train'].head()\n"
   ]
  },
  {
   "cell_type": "markdown",
   "metadata": {},
   "source": [
    "Dataset shapes"
   ]
  },
  {
   "cell_type": "code",
   "execution_count": 28,
   "metadata": {},
   "outputs": [
    {
     "name": "stdout",
     "output_type": "stream",
     "text": [
      "shape of train dataset: (7381, 2)\n",
      "Shape of test dataset: (11171, 2)\n",
      "Shape of severity_type dataset: (18552, 2)\n",
      "Shape of event_type dataset: (31170, 2)\n",
      "Shape of log_feature dataset: (58671, 3)\n",
      "Shape of resource_type dataset: (21076, 2)\n",
      "Shape of location dataset: (7381, 2)\n"
     ]
    }
   ],
   "source": [
    "print(f\"shape of train dataset: {dataset_['train'].shape}\")\n",
    "print(f\"Shape of test dataset: {dataset_['test'].shape}\")\n",
    "print(f\"Shape of severity_type dataset: {dataset_['severity_type'].shape}\")\n",
    "print(f\"Shape of event_type dataset: {dataset_['event_type'].shape}\")\n",
    "print(f\"Shape of log_feature dataset: {dataset_['log_feature'].shape}\")\n",
    "print(f\"Shape of resource_type dataset: {dataset_['resource_type'].shape}\")\n",
    "print(f\"Shape of location dataset: {dataset_['location'].shape}\")\n"
   ]
  },
  {
   "cell_type": "code",
   "execution_count": 29,
   "metadata": {},
   "outputs": [
    {
     "data": {
      "text/html": [
       "<div>\n",
       "<style scoped>\n",
       "    .dataframe tbody tr th:only-of-type {\n",
       "        vertical-align: middle;\n",
       "    }\n",
       "\n",
       "    .dataframe tbody tr th {\n",
       "        vertical-align: top;\n",
       "    }\n",
       "\n",
       "    .dataframe thead th {\n",
       "        text-align: right;\n",
       "    }\n",
       "</style>\n",
       "<table border=\"1\" class=\"dataframe\">\n",
       "  <thead>\n",
       "    <tr style=\"text-align: right;\">\n",
       "      <th></th>\n",
       "      <th>id</th>\n",
       "      <th>severity_type</th>\n",
       "    </tr>\n",
       "  </thead>\n",
       "  <tbody>\n",
       "    <tr>\n",
       "      <th>0</th>\n",
       "      <td>6597</td>\n",
       "      <td>severity_type 2</td>\n",
       "    </tr>\n",
       "    <tr>\n",
       "      <th>1</th>\n",
       "      <td>8011</td>\n",
       "      <td>severity_type 2</td>\n",
       "    </tr>\n",
       "    <tr>\n",
       "      <th>2</th>\n",
       "      <td>2597</td>\n",
       "      <td>severity_type 2</td>\n",
       "    </tr>\n",
       "    <tr>\n",
       "      <th>3</th>\n",
       "      <td>5022</td>\n",
       "      <td>severity_type 1</td>\n",
       "    </tr>\n",
       "    <tr>\n",
       "      <th>4</th>\n",
       "      <td>6852</td>\n",
       "      <td>severity_type 1</td>\n",
       "    </tr>\n",
       "  </tbody>\n",
       "</table>\n",
       "</div>"
      ],
      "text/plain": [
       "     id    severity_type\n",
       "0  6597  severity_type 2\n",
       "1  8011  severity_type 2\n",
       "2  2597  severity_type 2\n",
       "3  5022  severity_type 1\n",
       "4  6852  severity_type 1"
      ]
     },
     "execution_count": 29,
     "metadata": {},
     "output_type": "execute_result"
    }
   ],
   "source": [
    "dataset_['severity_type'].head()\n"
   ]
  },
  {
   "cell_type": "code",
   "execution_count": 30,
   "metadata": {},
   "outputs": [
    {
     "name": "stdout",
     "output_type": "stream",
     "text": [
      "train\n",
      "Number of unique ids: 7381\n",
      "Number of ids repeated more than once: 0\n",
      "======================\n",
      "test\n",
      "Number of unique ids: 11171\n",
      "Number of ids repeated more than once: 0\n",
      "======================\n",
      "severity_type\n",
      "Number of unique ids: 18552\n",
      "Number of ids repeated more than once: 0\n",
      "======================\n",
      "event_type\n",
      "Number of unique ids: 18552\n",
      "Number of ids repeated more than once: 12618\n",
      "======================\n",
      "resource_type\n",
      "Number of unique ids: 18552\n",
      "Number of ids repeated more than once: 2524\n",
      "======================\n",
      "log_feature\n",
      "Number of unique ids: 18552\n",
      "Number of ids repeated more than once: 40119\n",
      "======================\n",
      "location\n",
      "Number of unique ids: 7381\n",
      "Number of ids repeated more than once: 0\n",
      "======================\n"
     ]
    }
   ],
   "source": [
    "def check_unique_ids(dataset_name):\n",
    "    dataset = dataset_[dataset_name]\n",
    "    unique_ids = dataset['id'].nunique()\n",
    "    repeated_ids = len(dataset['id']) - unique_ids\n",
    "    print(dataset_name)\n",
    "    print(f\"Number of unique ids: {unique_ids}\")\n",
    "    print(f\"Number of ids repeated more than once: {repeated_ids}\")\n",
    "    print(\"======================\")\n",
    "check_unique_ids('train')\n",
    "check_unique_ids('test')\n",
    "check_unique_ids('severity_type')\n",
    "check_unique_ids('event_type')\n",
    "check_unique_ids('resource_type')\n",
    "check_unique_ids('log_feature')\n",
    "check_unique_ids('location')\n",
    "\n"
   ]
  },
  {
   "cell_type": "code",
   "execution_count": 31,
   "metadata": {},
   "outputs": [
    {
     "name": "stdout",
     "output_type": "stream",
     "text": [
      "train VS severity_type\n",
      "one to one: 7381, one to many: 0, many to many 0\n",
      "*\n",
      "train VS event_type\n",
      "one to one: 3176, one to many: 4205, many to many 0\n",
      "*\n",
      "train VS resource_type\n",
      "one to one: 6503, one to many: 878, many to many 0\n",
      "*\n",
      "train VS log_feature\n",
      "one to one: 985, one to many: 6396, many to many 0\n",
      "*\n",
      "train VS location\n",
      "one to one: 7381, one to many: 0, many to many 0\n",
      "*\n",
      "======================\n",
      "test VS severity_type\n",
      "one to one: 11171, one to many: 0, many to many 0\n",
      "*\n",
      "test VS event_type\n",
      "one to one: 4839, one to many: 6332, many to many 0\n",
      "*\n",
      "test VS resource_type\n",
      "one to one: 9918, one to many: 1253, many to many 0\n",
      "*\n",
      "test VS log_feature\n",
      "one to one: 1505, one to many: 9666, many to many 0\n",
      "*\n"
     ]
    }
   ],
   "source": [
    "def check_cardinality(name1, name2):\n",
    "    count1 = dataset_[name1]['id'].value_counts()\n",
    "    count2 = dataset_[name2]['id'].value_counts()\n",
    "    one_to_one = len(count1[count1 == 1].index.intersection(count2[count2 == 1].index))\n",
    "    one_to_many = len(count1[count1 == 1].index.intersection(count2[count2 > 1].index))\n",
    "    many_to_many = len(count1[count1 > 1].index.intersection(count2[count2 > 1].index))\n",
    "    print(f\"{name1} VS {name2}\")\n",
    "    print(f\"one to one: {one_to_one}, one to many: {one_to_many}, many to many {many_to_many}\")\n",
    "    print(\"*\")\n",
    "\n",
    "\n",
    "check_cardinality('train','severity_type')\n",
    "check_cardinality('train', 'event_type')\n",
    "check_cardinality('train','resource_type')\n",
    "check_cardinality('train','log_feature')\n",
    "check_cardinality('train','location')\n",
    "\n",
    "print(\"======================\")\n",
    "\n",
    "check_cardinality('test','severity_type')\n",
    "check_cardinality('test','event_type')\n",
    "check_cardinality('test','resource_type')\n",
    "check_cardinality('test','log_feature')\n"
   ]
  },
  {
   "cell_type": "markdown",
   "metadata": {},
   "source": [
    "## Unique count in each feature"
   ]
  },
  {
   "cell_type": "code",
   "execution_count": 32,
   "metadata": {},
   "outputs": [
    {
     "name": "stdout",
     "output_type": "stream",
     "text": [
      "Amount of unique values in severity_type: 5\n",
      "=============\n",
      "Amount of unique values in event_type: 53\n",
      "=============\n",
      "Amount of unique values in resource_type : 10\n",
      "=============\n",
      "Amount of unique values in log_feature: 386\n",
      "=============\n",
      "Amount of unique values in volume: 341\n",
      "=============\n",
      "Amount of unique values in location: 929\n"
     ]
    }
   ],
   "source": [
    "# print(dataset_['severity_type']['severity_type'].unique())\n",
    "n1 = dataset_['severity_type']['severity_type'].nunique()\n",
    "print(f'Amount of unique values in severity_type: {n1}')\n",
    "print(\"=============\")\n",
    "# print(dataset_['event_type']['event_type'].unique())\n",
    "n2 = dataset_['event_type']['event_type'].nunique()\n",
    "print(f'Amount of unique values in event_type: {n2}')\n",
    "print(\"=============\")\n",
    "# print(dataset_['resource_type']['resource_type'].unique())\n",
    "n3 = dataset_['resource_type']['resource_type'].nunique()\n",
    "print(f'Amount of unique values in resource_type : {n3}')\n",
    "print(\"=============\")\n",
    "# print(dataset_['log_feature']['log_feature'].unique())\n",
    "n4 = dataset_['log_feature']['log_feature'].nunique()\n",
    "print(f'Amount of unique values in log_feature: {n4}')\n",
    "print(\"=============\")\n",
    "n4 = dataset_['log_feature']['volume'].nunique()\n",
    "print(f'Amount of unique values in volume: {n4}')\n",
    "print(\"=============\")\n",
    "n5 = dataset_['location']['location'].nunique()\n",
    "print(f'Amount of unique values in location: {n5}')\n",
    "\n"
   ]
  },
  {
   "cell_type": "markdown",
   "metadata": {},
   "source": [
    "## Visualize counts of features"
   ]
  },
  {
   "cell_type": "code",
   "execution_count": 33,
   "metadata": {},
   "outputs": [
    {
     "data": {
      "image/png": "[encoded data removed]",
      "text/plain": [
       "<Figure size 576x432 with 1 Axes>"
      ]
     },
     "metadata": {
      "needs_background": "light"
     },
     "output_type": "display_data"
    }
   ],
   "source": [
    "plt.figure(figsize=(8, 6))\n",
    "sns.countplot(data=dataset_['train'], x='fault_severity')\n",
    "plt.xlabel('Fault Severity')\n",
    "plt.ylabel('Count')\n",
    "plt.title('Count Plot of Fault Severity')\n",
    "plt.show()\n"
   ]
  },
  {
   "cell_type": "code",
   "execution_count": 34,
   "metadata": {},
   "outputs": [
    {
     "data": {
      "image/png": "[encoded data removed]",
      "text/plain": [
       "<Figure size 576x432 with 1 Axes>"
      ]
     },
     "metadata": {
      "needs_background": "light"
     },
     "output_type": "display_data"
    }
   ],
   "source": [
    "plt.figure(figsize=(8, 6))\n",
    "sns.countplot(data=dataset_['severity_type'], x='severity_type')\n",
    "plt.xlabel('severity_type')\n",
    "plt.ylabel('Count')\n",
    "plt.title('Count Plot of severity_type')\n",
    "plt.show()\n"
   ]
  },
  {
   "cell_type": "code",
   "execution_count": 35,
   "metadata": {},
   "outputs": [
    {
     "data": {
      "image/png": "[encoded data removed]",
      "text/plain": [
       "<Figure size 576x432 with 1 Axes>"
      ]
     },
     "metadata": {
      "needs_background": "light"
     },
     "output_type": "display_data"
    }
   ],
   "source": [
    "plt.figure(figsize=(8, 6))\n",
    "sns.countplot(data=dataset_['event_type'], x='event_type')\n",
    "plt.xticks(rotation=90)\n",
    "plt.xlabel('event_type')\n",
    "plt.ylabel('Count')\n",
    "plt.title('Count Plot of event_type')\n",
    "plt.show()\n"
   ]
  },
  {
   "cell_type": "code",
   "execution_count": 36,
   "metadata": {},
   "outputs": [
    {
     "data": {
      "image/png": "[encoded data removed]",
      "text/plain": [
       "<Figure size 576x432 with 1 Axes>"
      ]
     },
     "metadata": {
      "needs_background": "light"
     },
     "output_type": "display_data"
    }
   ],
   "source": [
    "plt.figure(figsize=(8, 6))\n",
    "sns.countplot(data=dataset_['log_feature'], x='log_feature')\n",
    "plt.xticks(rotation=90)\n",
    "plt.xlabel('log_feature')\n",
    "plt.ylabel('Count')\n",
    "plt.title('Count Plot of log_feature')\n",
    "plt.show()\n"
   ]
  },
  {
   "cell_type": "code",
   "execution_count": 37,
   "metadata": {},
   "outputs": [
    {
     "name": "stdout",
     "output_type": "stream",
     "text": [
      "feature 312\n"
     ]
    }
   ],
   "source": [
    "log_feature_counts = dataset_['log_feature']['log_feature'].value_counts()\n",
    "max_count_value = log_feature_counts.idxmax()\n",
    "print(max_count_value)\n"
   ]
  },
  {
   "cell_type": "code",
   "execution_count": 38,
   "metadata": {},
   "outputs": [
    {
     "data": {
      "image/png": "[encoded data removed]",
      "text/plain": [
       "<Figure size 576x432 with 1 Axes>"
      ]
     },
     "metadata": {
      "needs_background": "light"
     },
     "output_type": "display_data"
    }
   ],
   "source": [
    "plt.figure(figsize=(8, 6))\n",
    "sns.countplot(data=dataset_['resource_type'], x='resource_type')\n",
    "plt.xticks(rotation=90)\n",
    "plt.xlabel('resource_type')\n",
    "plt.ylabel('Count')\n",
    "plt.title('Count Plot of resource_type')\n",
    "plt.show()\n"
   ]
  },
  {
   "cell_type": "code",
   "execution_count": 39,
   "metadata": {},
   "outputs": [],
   "source": [
    "df = pd.merge(dataset_['train'], dataset_['severity_type'])\n",
    "df = pd.merge(df, dataset_['resource_type'])\n",
    "df = pd.merge(df, dataset_['log_feature'])\n",
    "df = pd.merge(df, dataset_['event_type'])\n",
    "severity_mapping = {0: 'No Fault', 1: 'Some Faults', 2: 'Many Faults'}\n",
    "df['fault_severity'] = df['fault_severity'].map(severity_mapping)\n"
   ]
  },
  {
   "cell_type": "code",
   "execution_count": 40,
   "metadata": {},
   "outputs": [
    {
     "data": {
      "text/html": [
       "<div>\n",
       "<style scoped>\n",
       "    .dataframe tbody tr th:only-of-type {\n",
       "        vertical-align: middle;\n",
       "    }\n",
       "\n",
       "    .dataframe tbody tr th {\n",
       "        vertical-align: top;\n",
       "    }\n",
       "\n",
       "    .dataframe thead th {\n",
       "        text-align: right;\n",
       "    }\n",
       "</style>\n",
       "<table border=\"1\" class=\"dataframe\">\n",
       "  <thead>\n",
       "    <tr style=\"text-align: right;\">\n",
       "      <th></th>\n",
       "      <th>id</th>\n",
       "      <th>fault_severity</th>\n",
       "      <th>severity_type</th>\n",
       "      <th>resource_type</th>\n",
       "      <th>log_feature</th>\n",
       "      <th>volume</th>\n",
       "      <th>event_type</th>\n",
       "    </tr>\n",
       "  </thead>\n",
       "  <tbody>\n",
       "    <tr>\n",
       "      <th>0</th>\n",
       "      <td>14121</td>\n",
       "      <td>Some Faults</td>\n",
       "      <td>severity_type 2</td>\n",
       "      <td>resource_type 2</td>\n",
       "      <td>feature 312</td>\n",
       "      <td>19</td>\n",
       "      <td>event_type 34</td>\n",
       "    </tr>\n",
       "    <tr>\n",
       "      <th>1</th>\n",
       "      <td>14121</td>\n",
       "      <td>Some Faults</td>\n",
       "      <td>severity_type 2</td>\n",
       "      <td>resource_type 2</td>\n",
       "      <td>feature 312</td>\n",
       "      <td>19</td>\n",
       "      <td>event_type 35</td>\n",
       "    </tr>\n",
       "    <tr>\n",
       "      <th>2</th>\n",
       "      <td>14121</td>\n",
       "      <td>Some Faults</td>\n",
       "      <td>severity_type 2</td>\n",
       "      <td>resource_type 2</td>\n",
       "      <td>feature 232</td>\n",
       "      <td>19</td>\n",
       "      <td>event_type 34</td>\n",
       "    </tr>\n",
       "    <tr>\n",
       "      <th>3</th>\n",
       "      <td>14121</td>\n",
       "      <td>Some Faults</td>\n",
       "      <td>severity_type 2</td>\n",
       "      <td>resource_type 2</td>\n",
       "      <td>feature 232</td>\n",
       "      <td>19</td>\n",
       "      <td>event_type 35</td>\n",
       "    </tr>\n",
       "    <tr>\n",
       "      <th>4</th>\n",
       "      <td>9320</td>\n",
       "      <td>No Fault</td>\n",
       "      <td>severity_type 2</td>\n",
       "      <td>resource_type 2</td>\n",
       "      <td>feature 315</td>\n",
       "      <td>200</td>\n",
       "      <td>event_type 34</td>\n",
       "    </tr>\n",
       "  </tbody>\n",
       "</table>\n",
       "</div>"
      ],
      "text/plain": [
       "      id fault_severity    severity_type    resource_type  log_feature  \\\n",
       "0  14121    Some Faults  severity_type 2  resource_type 2  feature 312   \n",
       "1  14121    Some Faults  severity_type 2  resource_type 2  feature 312   \n",
       "2  14121    Some Faults  severity_type 2  resource_type 2  feature 232   \n",
       "3  14121    Some Faults  severity_type 2  resource_type 2  feature 232   \n",
       "4   9320       No Fault  severity_type 2  resource_type 2  feature 315   \n",
       "\n",
       "   volume     event_type  \n",
       "0      19  event_type 34  \n",
       "1      19  event_type 35  \n",
       "2      19  event_type 34  \n",
       "3      19  event_type 35  \n",
       "4     200  event_type 34  "
      ]
     },
     "execution_count": 40,
     "metadata": {},
     "output_type": "execute_result"
    }
   ],
   "source": [
    "df.head()\n"
   ]
  },
  {
   "cell_type": "code",
   "execution_count": 41,
   "metadata": {},
   "outputs": [
    {
     "data": {
      "text/plain": [
       "(61839, 7)"
      ]
     },
     "execution_count": 41,
     "metadata": {},
     "output_type": "execute_result"
    }
   ],
   "source": [
    "df.shape\n"
   ]
  },
  {
   "cell_type": "code",
   "execution_count": 42,
   "metadata": {},
   "outputs": [
    {
     "data": {
      "text/html": [
       "<div>\n",
       "<style scoped>\n",
       "    .dataframe tbody tr th:only-of-type {\n",
       "        vertical-align: middle;\n",
       "    }\n",
       "\n",
       "    .dataframe tbody tr th {\n",
       "        vertical-align: top;\n",
       "    }\n",
       "\n",
       "    .dataframe thead th {\n",
       "        text-align: right;\n",
       "    }\n",
       "</style>\n",
       "<table border=\"1\" class=\"dataframe\">\n",
       "  <thead>\n",
       "    <tr style=\"text-align: right;\">\n",
       "      <th></th>\n",
       "      <th>fault_severity</th>\n",
       "      <th>severity_type</th>\n",
       "      <th>resource_type</th>\n",
       "      <th>log_feature</th>\n",
       "      <th>volume</th>\n",
       "      <th>event_type</th>\n",
       "    </tr>\n",
       "    <tr>\n",
       "      <th>id</th>\n",
       "      <th></th>\n",
       "      <th></th>\n",
       "      <th></th>\n",
       "      <th></th>\n",
       "      <th></th>\n",
       "      <th></th>\n",
       "    </tr>\n",
       "  </thead>\n",
       "  <tbody>\n",
       "    <tr>\n",
       "      <th>14121</th>\n",
       "      <td>Some Faults</td>\n",
       "      <td>severity_type 2</td>\n",
       "      <td>resource_type 2</td>\n",
       "      <td>feature 312</td>\n",
       "      <td>19</td>\n",
       "      <td>event_type 34</td>\n",
       "    </tr>\n",
       "    <tr>\n",
       "      <th>14121</th>\n",
       "      <td>Some Faults</td>\n",
       "      <td>severity_type 2</td>\n",
       "      <td>resource_type 2</td>\n",
       "      <td>feature 312</td>\n",
       "      <td>19</td>\n",
       "      <td>event_type 35</td>\n",
       "    </tr>\n",
       "    <tr>\n",
       "      <th>14121</th>\n",
       "      <td>Some Faults</td>\n",
       "      <td>severity_type 2</td>\n",
       "      <td>resource_type 2</td>\n",
       "      <td>feature 232</td>\n",
       "      <td>19</td>\n",
       "      <td>event_type 34</td>\n",
       "    </tr>\n",
       "    <tr>\n",
       "      <th>14121</th>\n",
       "      <td>Some Faults</td>\n",
       "      <td>severity_type 2</td>\n",
       "      <td>resource_type 2</td>\n",
       "      <td>feature 232</td>\n",
       "      <td>19</td>\n",
       "      <td>event_type 35</td>\n",
       "    </tr>\n",
       "    <tr>\n",
       "      <th>9320</th>\n",
       "      <td>No Fault</td>\n",
       "      <td>severity_type 2</td>\n",
       "      <td>resource_type 2</td>\n",
       "      <td>feature 315</td>\n",
       "      <td>200</td>\n",
       "      <td>event_type 34</td>\n",
       "    </tr>\n",
       "    <tr>\n",
       "      <th>...</th>\n",
       "      <td>...</td>\n",
       "      <td>...</td>\n",
       "      <td>...</td>\n",
       "      <td>...</td>\n",
       "      <td>...</td>\n",
       "      <td>...</td>\n",
       "    </tr>\n",
       "    <tr>\n",
       "      <th>15189</th>\n",
       "      <td>No Fault</td>\n",
       "      <td>severity_type 1</td>\n",
       "      <td>resource_type 8</td>\n",
       "      <td>feature 55</td>\n",
       "      <td>10</td>\n",
       "      <td>event_type 11</td>\n",
       "    </tr>\n",
       "    <tr>\n",
       "      <th>15189</th>\n",
       "      <td>No Fault</td>\n",
       "      <td>severity_type 1</td>\n",
       "      <td>resource_type 8</td>\n",
       "      <td>feature 70</td>\n",
       "      <td>1</td>\n",
       "      <td>event_type 11</td>\n",
       "    </tr>\n",
       "    <tr>\n",
       "      <th>17067</th>\n",
       "      <td>No Fault</td>\n",
       "      <td>severity_type 1</td>\n",
       "      <td>resource_type 8</td>\n",
       "      <td>feature 81</td>\n",
       "      <td>1</td>\n",
       "      <td>event_type 11</td>\n",
       "    </tr>\n",
       "    <tr>\n",
       "      <th>17067</th>\n",
       "      <td>No Fault</td>\n",
       "      <td>severity_type 1</td>\n",
       "      <td>resource_type 8</td>\n",
       "      <td>feature 191</td>\n",
       "      <td>1</td>\n",
       "      <td>event_type 11</td>\n",
       "    </tr>\n",
       "    <tr>\n",
       "      <th>17067</th>\n",
       "      <td>No Fault</td>\n",
       "      <td>severity_type 1</td>\n",
       "      <td>resource_type 8</td>\n",
       "      <td>feature 70</td>\n",
       "      <td>1</td>\n",
       "      <td>event_type 11</td>\n",
       "    </tr>\n",
       "  </tbody>\n",
       "</table>\n",
       "<p>61839 rows × 6 columns</p>\n",
       "</div>"
      ],
      "text/plain": [
       "      fault_severity    severity_type    resource_type  log_feature  volume  \\\n",
       "id                                                                            \n",
       "14121    Some Faults  severity_type 2  resource_type 2  feature 312      19   \n",
       "14121    Some Faults  severity_type 2  resource_type 2  feature 312      19   \n",
       "14121    Some Faults  severity_type 2  resource_type 2  feature 232      19   \n",
       "14121    Some Faults  severity_type 2  resource_type 2  feature 232      19   \n",
       "9320        No Fault  severity_type 2  resource_type 2  feature 315     200   \n",
       "...              ...              ...              ...          ...     ...   \n",
       "15189       No Fault  severity_type 1  resource_type 8   feature 55      10   \n",
       "15189       No Fault  severity_type 1  resource_type 8   feature 70       1   \n",
       "17067       No Fault  severity_type 1  resource_type 8   feature 81       1   \n",
       "17067       No Fault  severity_type 1  resource_type 8  feature 191       1   \n",
       "17067       No Fault  severity_type 1  resource_type 8   feature 70       1   \n",
       "\n",
       "          event_type  \n",
       "id                    \n",
       "14121  event_type 34  \n",
       "14121  event_type 35  \n",
       "14121  event_type 34  \n",
       "14121  event_type 35  \n",
       "9320   event_type 34  \n",
       "...              ...  \n",
       "15189  event_type 11  \n",
       "15189  event_type 11  \n",
       "17067  event_type 11  \n",
       "17067  event_type 11  \n",
       "17067  event_type 11  \n",
       "\n",
       "[61839 rows x 6 columns]"
      ]
     },
     "execution_count": 42,
     "metadata": {},
     "output_type": "execute_result"
    }
   ],
   "source": [
    "df.set_index('id', inplace=True)\n",
    "df\n"
   ]
  },
  {
   "cell_type": "code",
   "execution_count": 43,
   "metadata": {},
   "outputs": [
    {
     "data": {
      "text/html": [
       "<div>\n",
       "<style scoped>\n",
       "    .dataframe tbody tr th:only-of-type {\n",
       "        vertical-align: middle;\n",
       "    }\n",
       "\n",
       "    .dataframe tbody tr th {\n",
       "        vertical-align: top;\n",
       "    }\n",
       "\n",
       "    .dataframe thead th {\n",
       "        text-align: right;\n",
       "    }\n",
       "</style>\n",
       "<table border=\"1\" class=\"dataframe\">\n",
       "  <thead>\n",
       "    <tr style=\"text-align: right;\">\n",
       "      <th></th>\n",
       "      <th>volume</th>\n",
       "    </tr>\n",
       "  </thead>\n",
       "  <tbody>\n",
       "    <tr>\n",
       "      <th>count</th>\n",
       "      <td>61839.000000</td>\n",
       "    </tr>\n",
       "    <tr>\n",
       "      <th>mean</th>\n",
       "      <td>8.390336</td>\n",
       "    </tr>\n",
       "    <tr>\n",
       "      <th>std</th>\n",
       "      <td>22.902491</td>\n",
       "    </tr>\n",
       "    <tr>\n",
       "      <th>min</th>\n",
       "      <td>1.000000</td>\n",
       "    </tr>\n",
       "    <tr>\n",
       "      <th>25%</th>\n",
       "      <td>1.000000</td>\n",
       "    </tr>\n",
       "    <tr>\n",
       "      <th>50%</th>\n",
       "      <td>2.000000</td>\n",
       "    </tr>\n",
       "    <tr>\n",
       "      <th>75%</th>\n",
       "      <td>6.000000</td>\n",
       "    </tr>\n",
       "    <tr>\n",
       "      <th>max</th>\n",
       "      <td>877.000000</td>\n",
       "    </tr>\n",
       "  </tbody>\n",
       "</table>\n",
       "</div>"
      ],
      "text/plain": [
       "             volume\n",
       "count  61839.000000\n",
       "mean       8.390336\n",
       "std       22.902491\n",
       "min        1.000000\n",
       "25%        1.000000\n",
       "50%        2.000000\n",
       "75%        6.000000\n",
       "max      877.000000"
      ]
     },
     "execution_count": 43,
     "metadata": {},
     "output_type": "execute_result"
    }
   ],
   "source": [
    "df.describe()\n"
   ]
  },
  {
   "cell_type": "code",
   "execution_count": 44,
   "metadata": {},
   "outputs": [
    {
     "data": {
      "text/plain": [
       "fault_severity    object\n",
       "severity_type     object\n",
       "resource_type     object\n",
       "log_feature       object\n",
       "volume             int64\n",
       "event_type        object\n",
       "dtype: object"
      ]
     },
     "execution_count": 44,
     "metadata": {},
     "output_type": "execute_result"
    }
   ],
   "source": [
    "df.dtypes\n"
   ]
  },
  {
   "cell_type": "code",
   "execution_count": 45,
   "metadata": {},
   "outputs": [
    {
     "data": {
      "text/plain": [
       "24260"
      ]
     },
     "execution_count": 45,
     "metadata": {},
     "output_type": "execute_result"
    }
   ],
   "source": [
    "len(df[df['severity_type'] == 'severity_type 2' ]['fault_severity'] == 0)\n"
   ]
  },
  {
   "cell_type": "code",
   "execution_count": 46,
   "metadata": {},
   "outputs": [
    {
     "data": {
      "image/png": "[encoded data removed]",
      "text/plain": [
       "<Figure size 720x432 with 1 Axes>"
      ]
     },
     "metadata": {
      "needs_background": "light"
     },
     "output_type": "display_data"
    },
    {
     "data": {
      "image/png": "[encoded data removed]",
      "text/plain": [
       "<Figure size 720x432 with 1 Axes>"
      ]
     },
     "metadata": {
      "needs_background": "light"
     },
     "output_type": "display_data"
    },
    {
     "data": {
      "image/png": "[encoded data removed]",
      "text/plain": [
       "<Figure size 720x432 with 1 Axes>"
      ]
     },
     "metadata": {
      "needs_background": "light"
     },
     "output_type": "display_data"
    },
    {
     "data": {
      "image/png": "[encoded data removed]",
      "text/plain": [
       "<Figure size 720x432 with 1 Axes>"
      ]
     },
     "metadata": {
      "needs_background": "light"
     },
     "output_type": "display_data"
    }
   ],
   "source": [
    "def count_plots_relationship(feature1, feature2):\n",
    "\n",
    "    sorted_df = df.groupby(feature1)[feature2].count().reset_index().sort_values(by=feature2, ascending=False)\n",
    "\n",
    "    top_5_categories = sorted_df[feature1].head(5).tolist()\n",
    "\n",
    "    sorted_df = df[df[feature1].isin(top_5_categories)]\n",
    "\n",
    "    plt.figure(figsize=(10, 6))\n",
    "    sns.countplot(data=sorted_df, x=feature1, hue=feature2)\n",
    "    plt.title(f'Relationship between {feature1} and {feature2}')\n",
    "    plt.xlabel(feature1)\n",
    "    plt.xticks(rotation=90)\n",
    "    plt.ylabel('Count')\n",
    "    plt.legend()\n",
    "    plt.show()\n",
    "\n",
    "count_plots_relationship('severity_type', 'fault_severity')\n",
    "count_plots_relationship('resource_type', 'fault_severity')\n",
    "count_plots_relationship('log_feature', 'fault_severity')\n",
    "count_plots_relationship('event_type', 'fault_severity')\n"
   ]
  },
  {
   "cell_type": "code",
   "execution_count": null,
   "metadata": {},
   "outputs": [],
   "source": []
  }
 ],
 "metadata": {
  "kernelspec": {
   "display_name": "Python 3",
   "language": "python",
   "name": "python3"
  },
  "language_info": {
   "codemirror_mode": {
    "name": "ipython",
    "version": 3
   },
   "file_extension": ".py",
   "mimetype": "text/x-python",
   "name": "python",
   "nbconvert_exporter": "python",
   "pygments_lexer": "ipython3",
   "version": "3.9.12"
  },
  "orig_nbformat": 4
 },
 "nbformat": 4,
 "nbformat_minor": 2
}
