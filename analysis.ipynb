{
 "cells": [
  {
   "cell_type": "code",
   "execution_count": 21,
   "metadata": {},
   "outputs": [],
   "source": [
    "import pandas as pd"
   ]
  },
  {
   "cell_type": "code",
   "execution_count": 22,
   "metadata": {},
   "outputs": [],
   "source": [
    "train_file = pd.read_csv('iot-datasets/train.csv')\n",
    "severity_type = pd.read_csv('iot-datasets/severity_type.csv')"
   ]
  },
  {
   "cell_type": "code",
   "execution_count": 27,
   "metadata": {},
   "outputs": [
    {
     "name": "stdout",
     "output_type": "stream",
     "text": [
      "Number of unique ids: 7381\n",
      "Number of ids repeated more than once: 0\n",
      "Number of unique ids: 18552\n",
      "Number of ids repeated more than once: 0\n"
     ]
    }
   ],
   "source": [
    "def check_unique_ids(dataset):\n",
    "    unique_ids = dataset['id'].nunique()\n",
    "    repeated_ids = len(dataset['id']) - unique_ids\n",
    "    print(f\"Number of unique ids: {unique_ids}\")\n",
    "    print(f\"Number of ids repeated more than once: {repeated_ids}\")\n",
    "\n",
    "check_unique_ids(train_file)\n",
    "check_unique_ids(severity_type)"
   ]
  },
  {
   "cell_type": "code",
   "execution_count": null,
   "metadata": {},
   "outputs": [],
   "source": []
  }
 ],
 "metadata": {
  "language_info": {
   "name": "python"
  },
  "orig_nbformat": 4
 },
 "nbformat": 4,
 "nbformat_minor": 2
}
