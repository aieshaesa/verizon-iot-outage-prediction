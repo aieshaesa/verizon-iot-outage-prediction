{
 "cells": [
  {
   "cell_type": "code",
   "execution_count": 67,
   "metadata": {},
   "outputs": [],
   "source": [
    "import pandas as pd"
   ]
  },
  {
   "cell_type": "code",
   "execution_count": 68,
   "metadata": {},
   "outputs": [],
   "source": [
    "train_file = pd.read_csv('iot-datasets/train.csv')\n",
    "test_file = pd.read_csv('iot-datasets/test.csv')\n",
    "severity_type = pd.read_csv('iot-datasets/severity_type.csv')\n",
    "event_type = pd.read_csv('iot-datasets/event_type.csv')\n",
    "log_feature = pd.read_csv('iot-datasets/log_feature.csv')\n",
    "resource_type = pd.read_csv('iot-datasets/resource_type.csv')"
   ]
  },
  {
   "cell_type": "code",
   "execution_count": 69,
   "metadata": {},
   "outputs": [],
   "source": [
    "dataset_ = {\n",
    "    'train': train_file,\n",
    "    'test': test_file,\n",
    "    'severity_type':severity_type,\n",
    "    'event_type':event_type,\n",
    "    'log_feature':log_feature,\n",
    "    'resource_type':resource_type\n",
    "}"
   ]
  },
  {
   "cell_type": "code",
   "execution_count": 70,
   "metadata": {},
   "outputs": [
    {
     "data": {
      "text/html": [
       "<div>\n",
       "<style scoped>\n",
       "    .dataframe tbody tr th:only-of-type {\n",
       "        vertical-align: middle;\n",
       "    }\n",
       "\n",
       "    .dataframe tbody tr th {\n",
       "        vertical-align: top;\n",
       "    }\n",
       "\n",
       "    .dataframe thead th {\n",
       "        text-align: right;\n",
       "    }\n",
       "</style>\n",
       "<table border=\"1\" class=\"dataframe\">\n",
       "  <thead>\n",
       "    <tr style=\"text-align: right;\">\n",
       "      <th></th>\n",
       "      <th>id</th>\n",
       "      <th>location</th>\n",
       "      <th>fault_severity</th>\n",
       "    </tr>\n",
       "  </thead>\n",
       "  <tbody>\n",
       "    <tr>\n",
       "      <th>0</th>\n",
       "      <td>14121</td>\n",
       "      <td>location 118</td>\n",
       "      <td>1</td>\n",
       "    </tr>\n",
       "    <tr>\n",
       "      <th>1</th>\n",
       "      <td>9320</td>\n",
       "      <td>location 91</td>\n",
       "      <td>0</td>\n",
       "    </tr>\n",
       "    <tr>\n",
       "      <th>2</th>\n",
       "      <td>14394</td>\n",
       "      <td>location 152</td>\n",
       "      <td>1</td>\n",
       "    </tr>\n",
       "    <tr>\n",
       "      <th>3</th>\n",
       "      <td>8218</td>\n",
       "      <td>location 931</td>\n",
       "      <td>1</td>\n",
       "    </tr>\n",
       "    <tr>\n",
       "      <th>4</th>\n",
       "      <td>14804</td>\n",
       "      <td>location 120</td>\n",
       "      <td>0</td>\n",
       "    </tr>\n",
       "  </tbody>\n",
       "</table>\n",
       "</div>"
      ],
      "text/plain": [
       "      id      location  fault_severity\n",
       "0  14121  location 118               1\n",
       "1   9320   location 91               0\n",
       "2  14394  location 152               1\n",
       "3   8218  location 931               1\n",
       "4  14804  location 120               0"
      ]
     },
     "execution_count": 70,
     "metadata": {},
     "output_type": "execute_result"
    }
   ],
   "source": [
    "dataset_['train'].head()"
   ]
  },
  {
   "cell_type": "code",
   "execution_count": 71,
   "metadata": {},
   "outputs": [
    {
     "data": {
      "text/html": [
       "<div>\n",
       "<style scoped>\n",
       "    .dataframe tbody tr th:only-of-type {\n",
       "        vertical-align: middle;\n",
       "    }\n",
       "\n",
       "    .dataframe tbody tr th {\n",
       "        vertical-align: top;\n",
       "    }\n",
       "\n",
       "    .dataframe thead th {\n",
       "        text-align: right;\n",
       "    }\n",
       "</style>\n",
       "<table border=\"1\" class=\"dataframe\">\n",
       "  <thead>\n",
       "    <tr style=\"text-align: right;\">\n",
       "      <th></th>\n",
       "      <th>id</th>\n",
       "      <th>severity_type</th>\n",
       "    </tr>\n",
       "  </thead>\n",
       "  <tbody>\n",
       "    <tr>\n",
       "      <th>0</th>\n",
       "      <td>6597</td>\n",
       "      <td>severity_type 2</td>\n",
       "    </tr>\n",
       "    <tr>\n",
       "      <th>1</th>\n",
       "      <td>8011</td>\n",
       "      <td>severity_type 2</td>\n",
       "    </tr>\n",
       "    <tr>\n",
       "      <th>2</th>\n",
       "      <td>2597</td>\n",
       "      <td>severity_type 2</td>\n",
       "    </tr>\n",
       "    <tr>\n",
       "      <th>3</th>\n",
       "      <td>5022</td>\n",
       "      <td>severity_type 1</td>\n",
       "    </tr>\n",
       "    <tr>\n",
       "      <th>4</th>\n",
       "      <td>6852</td>\n",
       "      <td>severity_type 1</td>\n",
       "    </tr>\n",
       "  </tbody>\n",
       "</table>\n",
       "</div>"
      ],
      "text/plain": [
       "     id    severity_type\n",
       "0  6597  severity_type 2\n",
       "1  8011  severity_type 2\n",
       "2  2597  severity_type 2\n",
       "3  5022  severity_type 1\n",
       "4  6852  severity_type 1"
      ]
     },
     "execution_count": 71,
     "metadata": {},
     "output_type": "execute_result"
    }
   ],
   "source": [
    "dataset_['severity_type'].head()"
   ]
  },
  {
   "cell_type": "code",
   "execution_count": 72,
   "metadata": {},
   "outputs": [
    {
     "name": "stdout",
     "output_type": "stream",
     "text": [
      "train\n",
      "Number of unique ids: 7381\n",
      "Number of ids repeated more than once: 0\n",
      "======================\n",
      "test\n",
      "Number of unique ids: 11171\n",
      "Number of ids repeated more than once: 0\n",
      "======================\n",
      "severity_type\n",
      "Number of unique ids: 18552\n",
      "Number of ids repeated more than once: 0\n",
      "======================\n",
      "event_type\n",
      "Number of unique ids: 18552\n",
      "Number of ids repeated more than once: 12618\n",
      "======================\n",
      "resource_type\n",
      "Number of unique ids: 18552\n",
      "Number of ids repeated more than once: 2524\n",
      "======================\n",
      "log_feature\n",
      "Number of unique ids: 18552\n",
      "Number of ids repeated more than once: 40119\n",
      "======================\n"
     ]
    }
   ],
   "source": [
    "def check_unique_ids(dataset_name):\n",
    "    dataset = dataset_[dataset_name]\n",
    "    unique_ids = dataset['id'].nunique()\n",
    "    repeated_ids = len(dataset['id']) - unique_ids\n",
    "    print(dataset_name)\n",
    "    print(f\"Number of unique ids: {unique_ids}\")\n",
    "    print(f\"Number of ids repeated more than once: {repeated_ids}\")\n",
    "    print(\"======================\")\n",
    "check_unique_ids('train')\n",
    "check_unique_ids('test')\n",
    "check_unique_ids('severity_type')\n",
    "check_unique_ids('event_type')\n",
    "check_unique_ids('resource_type')\n",
    "check_unique_ids('log_feature')"
   ]
  },
  {
   "cell_type": "code",
   "execution_count": 78,
   "metadata": {},
   "outputs": [
    {
     "name": "stdout",
     "output_type": "stream",
     "text": [
      "train VS severity_type\n",
      "one to one: 7381, one to many: 0, many to many 0\n",
      "*\n",
      "train VS event_type\n",
      "one to one: 3176, one to many: 4205, many to many 0\n",
      "*\n",
      "train VS resource_type\n",
      "one to one: 6503, one to many: 878, many to many 0\n",
      "*\n",
      "train VS log_feature\n",
      "one to one: 985, one to many: 6396, many to many 0\n",
      "*\n",
      "======================\n",
      "test VS severity_type\n",
      "one to one: 11171, one to many: 0, many to many 0\n",
      "*\n",
      "test VS event_type\n",
      "one to one: 4839, one to many: 6332, many to many 0\n",
      "*\n",
      "test VS resource_type\n",
      "one to one: 9918, one to many: 1253, many to many 0\n",
      "*\n",
      "test VS log_feature\n",
      "one to one: 1505, one to many: 9666, many to many 0\n",
      "*\n"
     ]
    }
   ],
   "source": [
    "def check_cardinality(name1, name2):\n",
    "    count1 = dataset_[name1]['id'].value_counts()\n",
    "    count2 = dataset_[name2]['id'].value_counts()\n",
    "    one_to_one = len(count1[count1 == 1].index.intersection(count2[count2 == 1].index))\n",
    "    one_to_many = len(count1[count1 == 1].index.intersection(count2[count2 > 1].index))\n",
    "    many_to_many = len(count1[count1 > 1].index.intersection(count2[count2 > 1].index))\n",
    "    print(f\"{name1} VS {name2}\")\n",
    "    print(f\"one to one: {one_to_one}, one to many: {one_to_many}, many to many {many_to_many}\")\n",
    "    print(\"*\")\n",
    "\n",
    "\n",
    "check_cardinality('train','severity_type')\n",
    "check_cardinality('train', 'event_type')\n",
    "check_cardinality('train','resource_type')\n",
    "check_cardinality('train','log_feature')\n",
    "print(\"======================\")\n",
    "\n",
    "check_cardinality('test','severity_type')\n",
    "check_cardinality('test','event_type')\n",
    "check_cardinality('test','resource_type')\n",
    "check_cardinality('test','log_feature')"
   ]
  },
  {
   "cell_type": "code",
   "execution_count": null,
   "metadata": {},
   "outputs": [],
   "source": []
  }
 ],
 "metadata": {
  "language_info": {
   "name": "python"
  },
  "orig_nbformat": 4
 },
 "nbformat": 4,
 "nbformat_minor": 2
}
