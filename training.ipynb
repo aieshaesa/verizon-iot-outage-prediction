{
 "cells": [
  {
   "cell_type": "code",
   "execution_count": 1,
   "metadata": {},
   "outputs": [],
   "source": [
    "import pandas as pd\n",
    "import seaborn as sns\n",
    "import matplotlib.pyplot as plt\n",
    "\n",
    "import scipy.stats as stats\n",
    "import pandas as pd\n",
    "import numpy as np\n",
    "import os \n",
    "import sklearn\n",
    "from sklearn.model_selection import train_test_split \n",
    "from sklearn.metrics import accuracy_score\n",
    "from sklearn.linear_model import LinearRegression\n",
    "from sklearn.model_selection import train_test_split, GridSearchCV\n",
    "from sklearn.metrics import mean_squared_error, r2_score\n"
   ]
  },
  {
   "cell_type": "code",
   "execution_count": 2,
   "metadata": {},
   "outputs": [],
   "source": [
    "train_file = pd.read_csv('iot-datasets/train.csv')\n",
    "test_file = pd.read_csv('iot-datasets/test.csv')\n",
    "severity_type = pd.read_csv('iot-datasets/severity_type.csv')\n",
    "event_type = pd.read_csv('iot-datasets/event_type.csv')\n",
    "log_feature = pd.read_csv('iot-datasets/log_feature.csv')\n",
    "resource_type = pd.read_csv('iot-datasets/resource_type.csv')"
   ]
  },
  {
   "cell_type": "code",
   "execution_count": 3,
   "metadata": {},
   "outputs": [],
   "source": [
    "df = train_file.merge(severity_type, how = 'left', left_on='id', right_on='id')\n",
    "df = df.merge(resource_type, how = 'left', left_on='id', right_on='id')\n",
    "df = df.merge(log_feature, how = 'left', left_on='id', right_on='id')\n",
    "df = df.merge(event_type, how = 'left', left_on='id', right_on='id')"
   ]
  },
  {
   "cell_type": "code",
   "execution_count": 4,
   "metadata": {},
   "outputs": [
    {
     "data": {
      "text/html": [
       "<div>\n",
       "<style scoped>\n",
       "    .dataframe tbody tr th:only-of-type {\n",
       "        vertical-align: middle;\n",
       "    }\n",
       "\n",
       "    .dataframe tbody tr th {\n",
       "        vertical-align: top;\n",
       "    }\n",
       "\n",
       "    .dataframe thead th {\n",
       "        text-align: right;\n",
       "    }\n",
       "</style>\n",
       "<table border=\"1\" class=\"dataframe\">\n",
       "  <thead>\n",
       "    <tr style=\"text-align: right;\">\n",
       "      <th></th>\n",
       "      <th>id</th>\n",
       "      <th>location</th>\n",
       "      <th>fault_severity</th>\n",
       "      <th>severity_type</th>\n",
       "      <th>resource_type</th>\n",
       "      <th>log_feature</th>\n",
       "      <th>volume</th>\n",
       "      <th>event_type</th>\n",
       "    </tr>\n",
       "  </thead>\n",
       "  <tbody>\n",
       "    <tr>\n",
       "      <th>0</th>\n",
       "      <td>14121</td>\n",
       "      <td>location 118</td>\n",
       "      <td>1</td>\n",
       "      <td>severity_type 2</td>\n",
       "      <td>resource_type 2</td>\n",
       "      <td>feature 312</td>\n",
       "      <td>19</td>\n",
       "      <td>event_type 34</td>\n",
       "    </tr>\n",
       "    <tr>\n",
       "      <th>1</th>\n",
       "      <td>14121</td>\n",
       "      <td>location 118</td>\n",
       "      <td>1</td>\n",
       "      <td>severity_type 2</td>\n",
       "      <td>resource_type 2</td>\n",
       "      <td>feature 312</td>\n",
       "      <td>19</td>\n",
       "      <td>event_type 35</td>\n",
       "    </tr>\n",
       "    <tr>\n",
       "      <th>2</th>\n",
       "      <td>14121</td>\n",
       "      <td>location 118</td>\n",
       "      <td>1</td>\n",
       "      <td>severity_type 2</td>\n",
       "      <td>resource_type 2</td>\n",
       "      <td>feature 232</td>\n",
       "      <td>19</td>\n",
       "      <td>event_type 34</td>\n",
       "    </tr>\n",
       "    <tr>\n",
       "      <th>3</th>\n",
       "      <td>14121</td>\n",
       "      <td>location 118</td>\n",
       "      <td>1</td>\n",
       "      <td>severity_type 2</td>\n",
       "      <td>resource_type 2</td>\n",
       "      <td>feature 232</td>\n",
       "      <td>19</td>\n",
       "      <td>event_type 35</td>\n",
       "    </tr>\n",
       "    <tr>\n",
       "      <th>4</th>\n",
       "      <td>9320</td>\n",
       "      <td>location 91</td>\n",
       "      <td>0</td>\n",
       "      <td>severity_type 2</td>\n",
       "      <td>resource_type 2</td>\n",
       "      <td>feature 315</td>\n",
       "      <td>200</td>\n",
       "      <td>event_type 34</td>\n",
       "    </tr>\n",
       "  </tbody>\n",
       "</table>\n",
       "</div>"
      ],
      "text/plain": [
       "      id      location  fault_severity    severity_type    resource_type  \\\n",
       "0  14121  location 118               1  severity_type 2  resource_type 2   \n",
       "1  14121  location 118               1  severity_type 2  resource_type 2   \n",
       "2  14121  location 118               1  severity_type 2  resource_type 2   \n",
       "3  14121  location 118               1  severity_type 2  resource_type 2   \n",
       "4   9320   location 91               0  severity_type 2  resource_type 2   \n",
       "\n",
       "   log_feature  volume     event_type  \n",
       "0  feature 312      19  event_type 34  \n",
       "1  feature 312      19  event_type 35  \n",
       "2  feature 232      19  event_type 34  \n",
       "3  feature 232      19  event_type 35  \n",
       "4  feature 315     200  event_type 34  "
      ]
     },
     "execution_count": 4,
     "metadata": {},
     "output_type": "execute_result"
    }
   ],
   "source": [
    "df.head()"
   ]
  },
  {
   "cell_type": "code",
   "execution_count": 5,
   "metadata": {},
   "outputs": [
    {
     "data": {
      "text/plain": [
       "id                0\n",
       "location          0\n",
       "fault_severity    0\n",
       "severity_type     0\n",
       "resource_type     0\n",
       "log_feature       0\n",
       "volume            0\n",
       "event_type        0\n",
       "dtype: int64"
      ]
     },
     "execution_count": 5,
     "metadata": {},
     "output_type": "execute_result"
    }
   ],
   "source": [
    "df.isnull().sum()"
   ]
  },
  {
   "cell_type": "code",
   "execution_count": 6,
   "metadata": {},
   "outputs": [],
   "source": [
    "df.drop_duplicates(subset='id',keep='first',inplace=True)"
   ]
  },
  {
   "cell_type": "code",
   "execution_count": 7,
   "metadata": {},
   "outputs": [
    {
     "data": {
      "text/html": [
       "<div>\n",
       "<style scoped>\n",
       "    .dataframe tbody tr th:only-of-type {\n",
       "        vertical-align: middle;\n",
       "    }\n",
       "\n",
       "    .dataframe tbody tr th {\n",
       "        vertical-align: top;\n",
       "    }\n",
       "\n",
       "    .dataframe thead th {\n",
       "        text-align: right;\n",
       "    }\n",
       "</style>\n",
       "<table border=\"1\" class=\"dataframe\">\n",
       "  <thead>\n",
       "    <tr style=\"text-align: right;\">\n",
       "      <th></th>\n",
       "      <th>id</th>\n",
       "      <th>location</th>\n",
       "      <th>fault_severity</th>\n",
       "      <th>severity_type</th>\n",
       "      <th>resource_type</th>\n",
       "      <th>log_feature</th>\n",
       "      <th>volume</th>\n",
       "      <th>event_type</th>\n",
       "    </tr>\n",
       "  </thead>\n",
       "  <tbody>\n",
       "    <tr>\n",
       "      <th>0</th>\n",
       "      <td>14121</td>\n",
       "      <td>location 118</td>\n",
       "      <td>1</td>\n",
       "      <td>severity_type 2</td>\n",
       "      <td>resource_type 2</td>\n",
       "      <td>feature 312</td>\n",
       "      <td>19</td>\n",
       "      <td>event_type 34</td>\n",
       "    </tr>\n",
       "    <tr>\n",
       "      <th>4</th>\n",
       "      <td>9320</td>\n",
       "      <td>location 91</td>\n",
       "      <td>0</td>\n",
       "      <td>severity_type 2</td>\n",
       "      <td>resource_type 2</td>\n",
       "      <td>feature 315</td>\n",
       "      <td>200</td>\n",
       "      <td>event_type 34</td>\n",
       "    </tr>\n",
       "    <tr>\n",
       "      <th>8</th>\n",
       "      <td>14394</td>\n",
       "      <td>location 152</td>\n",
       "      <td>1</td>\n",
       "      <td>severity_type 2</td>\n",
       "      <td>resource_type 2</td>\n",
       "      <td>feature 221</td>\n",
       "      <td>1</td>\n",
       "      <td>event_type 35</td>\n",
       "    </tr>\n",
       "    <tr>\n",
       "      <th>12</th>\n",
       "      <td>8218</td>\n",
       "      <td>location 931</td>\n",
       "      <td>1</td>\n",
       "      <td>severity_type 1</td>\n",
       "      <td>resource_type 8</td>\n",
       "      <td>feature 80</td>\n",
       "      <td>9</td>\n",
       "      <td>event_type 15</td>\n",
       "    </tr>\n",
       "    <tr>\n",
       "      <th>18</th>\n",
       "      <td>14804</td>\n",
       "      <td>location 120</td>\n",
       "      <td>0</td>\n",
       "      <td>severity_type 1</td>\n",
       "      <td>resource_type 2</td>\n",
       "      <td>feature 134</td>\n",
       "      <td>1</td>\n",
       "      <td>event_type 34</td>\n",
       "    </tr>\n",
       "  </tbody>\n",
       "</table>\n",
       "</div>"
      ],
      "text/plain": [
       "       id      location  fault_severity    severity_type    resource_type  \\\n",
       "0   14121  location 118               1  severity_type 2  resource_type 2   \n",
       "4    9320   location 91               0  severity_type 2  resource_type 2   \n",
       "8   14394  location 152               1  severity_type 2  resource_type 2   \n",
       "12   8218  location 931               1  severity_type 1  resource_type 8   \n",
       "18  14804  location 120               0  severity_type 1  resource_type 2   \n",
       "\n",
       "    log_feature  volume     event_type  \n",
       "0   feature 312      19  event_type 34  \n",
       "4   feature 315     200  event_type 34  \n",
       "8   feature 221       1  event_type 35  \n",
       "12   feature 80       9  event_type 15  \n",
       "18  feature 134       1  event_type 34  "
      ]
     },
     "execution_count": 7,
     "metadata": {},
     "output_type": "execute_result"
    }
   ],
   "source": [
    "df.head()"
   ]
  },
  {
   "cell_type": "code",
   "execution_count": 8,
   "metadata": {},
   "outputs": [
    {
     "data": {
      "text/plain": [
       "(7381, 8)"
      ]
     },
     "execution_count": 8,
     "metadata": {},
     "output_type": "execute_result"
    }
   ],
   "source": [
    "df.shape"
   ]
  },
  {
   "cell_type": "markdown",
   "metadata": {},
   "source": [
    "## Convert features into numbers"
   ]
  },
  {
   "cell_type": "code",
   "execution_count": 9,
   "metadata": {},
   "outputs": [
    {
     "data": {
      "text/plain": [
       "id                 int64\n",
       "location          object\n",
       "fault_severity     int64\n",
       "severity_type     object\n",
       "resource_type     object\n",
       "log_feature       object\n",
       "volume             int64\n",
       "event_type        object\n",
       "dtype: object"
      ]
     },
     "execution_count": 9,
     "metadata": {},
     "output_type": "execute_result"
    }
   ],
   "source": [
    "df.dtypes"
   ]
  },
  {
   "cell_type": "code",
   "execution_count": 10,
   "metadata": {},
   "outputs": [],
   "source": [
    "def extract(column_names):\n",
    "    for name in column_names:\n",
    "        df[name] = df[name].str.extract(r'(\\d+)').astype(int)\n",
    "    return df\n",
    "column_names = list(df.select_dtypes(include=['object']).columns)\n",
    "df = extract(column_names)"
   ]
  },
  {
   "cell_type": "code",
   "execution_count": 11,
   "metadata": {},
   "outputs": [
    {
     "data": {
      "text/plain": [
       "id                int64\n",
       "location          int64\n",
       "fault_severity    int64\n",
       "severity_type     int64\n",
       "resource_type     int64\n",
       "log_feature       int64\n",
       "volume            int64\n",
       "event_type        int64\n",
       "dtype: object"
      ]
     },
     "execution_count": 11,
     "metadata": {},
     "output_type": "execute_result"
    }
   ],
   "source": [
    "df.dtypes"
   ]
  },
  {
   "cell_type": "markdown",
   "metadata": {},
   "source": [
    "## Split dataset"
   ]
  },
  {
   "cell_type": "code",
   "execution_count": 12,
   "metadata": {},
   "outputs": [
    {
     "name": "stdout",
     "output_type": "stream",
     "text": [
      "Number of examples: 7381\n",
      "\n",
      "Number of Features:6\n",
      "['location', 'severity_type', 'resource_type', 'log_feature', 'volume', 'event_type']\n"
     ]
    }
   ],
   "source": [
    "y = df['fault_severity']\n",
    "X = df.drop(['fault_severity','id'], axis=1)\n",
    "print(\"Number of examples: \" + str(X.shape[0]))\n",
    "print(\"\\nNumber of Features:\" + str(X.shape[1]))\n",
    "print(str(list(X.columns)))"
   ]
  },
  {
   "cell_type": "markdown",
   "metadata": {},
   "source": [
    "## Logistic regression"
   ]
  },
  {
   "cell_type": "code",
   "execution_count": 13,
   "metadata": {},
   "outputs": [],
   "source": [
    "from sklearn.linear_model import LogisticRegression\n",
    "from sklearn.model_selection import train_test_split\n",
    "from sklearn.metrics import log_loss\n",
    "from sklearn.metrics import accuracy_score\n"
   ]
  },
  {
   "cell_type": "code",
   "execution_count": 14,
   "metadata": {},
   "outputs": [],
   "source": [
    "X_train,X_test, y_train,y_test =  train_test_split(X,y, test_size=0.33,random_state=1234)"
   ]
  },
  {
   "cell_type": "code",
   "execution_count": 15,
   "metadata": {},
   "outputs": [
    {
     "name": "stdout",
     "output_type": "stream",
     "text": [
      "(4945, 6)\n",
      "(4945,)\n",
      "(2436, 6)\n",
      "(2436,)\n"
     ]
    }
   ],
   "source": [
    "print(X_train.shape)\n",
    "print(y_train.shape)\n",
    "print(X_test.shape)\n",
    "print(y_test.shape)"
   ]
  },
  {
   "cell_type": "code",
   "execution_count": 16,
   "metadata": {},
   "outputs": [
    {
     "name": "stderr",
     "output_type": "stream",
     "text": [
      "/Users/ghomefolder/opt/anaconda3/lib/python3.9/site-packages/sklearn/linear_model/_logistic.py:814: ConvergenceWarning: lbfgs failed to converge (status=1):\n",
      "STOP: TOTAL NO. of ITERATIONS REACHED LIMIT.\n",
      "\n",
      "Increase the number of iterations (max_iter) or scale the data as shown in:\n",
      "    https://scikit-learn.org/stable/modules/preprocessing.html\n",
      "Please also refer to the documentation for alternative solver options:\n",
      "    https://scikit-learn.org/stable/modules/linear_model.html#logistic-regression\n",
      "  n_iter_i = _check_optimize_result(\n"
     ]
    }
   ],
   "source": [
    "lr_model = LogisticRegression(multi_class='multinomial', solver='lbfgs')\n",
    "lr_model.fit(X_train, y_train)\n",
    "lr_y_pred = lr_model.predict(X_test)"
   ]
  },
  {
   "cell_type": "code",
   "execution_count": 17,
   "metadata": {},
   "outputs": [
    {
     "name": "stdout",
     "output_type": "stream",
     "text": [
      "Accuracy score of model: 0.6395730706075534\n",
      "              precision    recall  f1-score   support\n",
      "\n",
      "           0       0.65      0.97      0.78      1563\n",
      "           1       0.40      0.06      0.10       591\n",
      "           2       1.00      0.01      0.01       282\n",
      "\n",
      "    accuracy                           0.64      2436\n",
      "   macro avg       0.68      0.35      0.30      2436\n",
      "weighted avg       0.63      0.64      0.52      2436\n",
      "\n"
     ]
    }
   ],
   "source": [
    "from sklearn.metrics import accuracy_score, classification_report\n",
    "LR_accuracy = accuracy_score(y_test, lr_y_pred)\n",
    "LR_report = classification_report(y_test, lr_y_pred)\n",
    "print('Accuracy score of model: ' + str(LR_accuracy))\n",
    "print(LR_report)"
   ]
  },
  {
   "cell_type": "markdown",
   "metadata": {},
   "source": [
    "## KNN"
   ]
  },
  {
   "cell_type": "code",
   "execution_count": 18,
   "metadata": {},
   "outputs": [
    {
     "name": "stderr",
     "output_type": "stream",
     "text": [
      "/Users/ghomefolder/opt/anaconda3/lib/python3.9/site-packages/sklearn/neighbors/_classification.py:228: FutureWarning: Unlike other reduction functions (e.g. `skew`, `kurtosis`), the default behavior of `mode` typically preserves the axis it acts along. In SciPy 1.11.0, this behavior will change: the default value of `keepdims` will become False, the `axis` over which the statistic is taken will be eliminated, and the value None will no longer be accepted. Set `keepdims` to True or False to avoid this warning.\n",
      "  mode, _ = stats.mode(_y[neigh_ind, k], axis=1)\n"
     ]
    }
   ],
   "source": [
    "from sklearn.neighbors import KNeighborsClassifier\n",
    "\n",
    "knn_model = KNeighborsClassifier(n_neighbors=3)\n",
    "\n",
    "knn_model.fit(X_train, y_train) \n",
    "\n",
    "knn_y_pred = knn_model.predict(X_test) "
   ]
  },
  {
   "cell_type": "code",
   "execution_count": 19,
   "metadata": {},
   "outputs": [
    {
     "name": "stdout",
     "output_type": "stream",
     "text": [
      "Accuracy score of model: 0.6342364532019704\n"
     ]
    }
   ],
   "source": [
    "KNN_accuracy = accuracy_score(y_test, knn_y_pred)\n",
    "print('Accuracy score of model: ' + str(KNN_accuracy))"
   ]
  },
  {
   "cell_type": "markdown",
   "metadata": {},
   "source": [
    "## Decision Tree"
   ]
  },
  {
   "cell_type": "code",
   "execution_count": 20,
   "metadata": {},
   "outputs": [
    {
     "name": "stdout",
     "output_type": "stream",
     "text": [
      "Accuracy: 0.6543513957307061\n"
     ]
    }
   ],
   "source": [
    "# Load libraries\n",
    "import pandas as pd\n",
    "from sklearn.tree import DecisionTreeClassifier # Import Decision Tree Classifier\n",
    "from sklearn.model_selection import train_test_split # Import train_test_split function\n",
    "from sklearn import metrics #Import scikit-learn metrics module for accuracy calculation\n",
    "# Create Decision Tree classifer object\n",
    "dt_model = DecisionTreeClassifier(criterion=\"entropy\", max_depth=3)\n",
    "\n",
    "# Train Decision Tree Classifer\n",
    "dt_model = dt_model.fit(X_train,y_train)\n",
    "\n",
    "#Predict the response for test dataset\n",
    "dt_y_pred = dt_model.predict(X_test)\n",
    "\n",
    "# Model Accuracy, how often is the classifier correct?\n",
    "print(\"Accuracy:\",metrics.accuracy_score(y_test, dt_y_pred))\n",
    "\n"
   ]
  },
  {
   "cell_type": "markdown",
   "metadata": {},
   "source": [
    "## Random Forest"
   ]
  },
  {
   "cell_type": "code",
   "execution_count": 21,
   "metadata": {},
   "outputs": [
    {
     "name": "stdout",
     "output_type": "stream",
     "text": [
      "Running grid search\n"
     ]
    },
    {
     "ename": "NameError",
     "evalue": "name 'RandomForestClassifier' is not defined",
     "output_type": "error",
     "traceback": [
      "\u001b[0;31m---------------------------------------------------------------------------\u001b[0m",
      "\u001b[0;31mNameError\u001b[0m                                 Traceback (most recent call last)",
      "\u001b[1;32m/Users/ghomefolder/Desktop/verizon/verizon-iot-outage-prediction/verizon-iot-outage-prediction/training.ipynb Cell 27\u001b[0m line \u001b[0;36m<cell line: 3>\u001b[0;34m()\u001b[0m\n\u001b[1;32m      <a href='vscode-notebook-cell:/Users/ghomefolder/Desktop/verizon/verizon-iot-outage-prediction/verizon-iot-outage-prediction/training.ipynb#X35sZmlsZQ%3D%3D?line=0'>1</a>\u001b[0m param_grid \u001b[39m=\u001b[39m {\u001b[39m'\u001b[39m\u001b[39mmax_depth\u001b[39m\u001b[39m'\u001b[39m:[\u001b[39m4\u001b[39m,\u001b[39m8\u001b[39m,\u001b[39m10\u001b[39m,\u001b[39m20\u001b[39m,\u001b[39m32\u001b[39m],\u001b[39m'\u001b[39m\u001b[39mn_estimators\u001b[39m\u001b[39m'\u001b[39m:[\u001b[39m25\u001b[39m,\u001b[39m50\u001b[39m,\u001b[39m100\u001b[39m,\u001b[39m200\u001b[39m,\u001b[39m300\u001b[39m]}\n\u001b[1;32m      <a href='vscode-notebook-cell:/Users/ghomefolder/Desktop/verizon/verizon-iot-outage-prediction/verizon-iot-outage-prediction/training.ipynb#X35sZmlsZQ%3D%3D?line=1'>2</a>\u001b[0m \u001b[39mprint\u001b[39m(\u001b[39m'\u001b[39m\u001b[39mRunning grid search\u001b[39m\u001b[39m'\u001b[39m)\n\u001b[0;32m----> <a href='vscode-notebook-cell:/Users/ghomefolder/Desktop/verizon/verizon-iot-outage-prediction/verizon-iot-outage-prediction/training.ipynb#X35sZmlsZQ%3D%3D?line=2'>3</a>\u001b[0m rf_model \u001b[39m=\u001b[39m RandomForestClassifier()\n\u001b[1;32m      <a href='vscode-notebook-cell:/Users/ghomefolder/Desktop/verizon/verizon-iot-outage-prediction/verizon-iot-outage-prediction/training.ipynb#X35sZmlsZQ%3D%3D?line=3'>4</a>\u001b[0m rf_grid \u001b[39m=\u001b[39m GridSearchCV(rf_model,param_grid,cv\u001b[39m=\u001b[39m\u001b[39m3\u001b[39m, scoring\u001b[39m=\u001b[39m\u001b[39m'\u001b[39m\u001b[39mneg_root_mean_squared_error\u001b[39m\u001b[39m'\u001b[39m)\n\u001b[1;32m      <a href='vscode-notebook-cell:/Users/ghomefolder/Desktop/verizon/verizon-iot-outage-prediction/verizon-iot-outage-prediction/training.ipynb#X35sZmlsZQ%3D%3D?line=4'>5</a>\u001b[0m rf_grid_search \u001b[39m=\u001b[39m rf_grid\u001b[39m.\u001b[39mfit(X_train,y_train)\n",
      "\u001b[0;31mNameError\u001b[0m: name 'RandomForestClassifier' is not defined"
     ]
    }
   ],
   "source": [
    "param_grid = {'max_depth':[4,8,10,20,32],'n_estimators':[25,50,100,200,300]}\n",
    "print('Running grid search')\n",
    "rf_model = RandomForestClassifier()\n",
    "rf_grid = GridSearchCV(rf_model,param_grid,cv=3, scoring='neg_root_mean_squared_error')\n",
    "rf_grid_search = rf_grid.fit(X_train,y_train)\n",
    "print('finished grid search')\n",
    "\n",
    "rf_best_params= rf_grid_search.best_params_\n",
    "print(f\"best parameters for rf model: {rf_best_params}\")\n",
    "rf_model = RandomForestClassifier(max_depth=rf_best_params['max_depth'],n_estimators = rf_best_params['n_estimators'])\n",
    "rf_model.fit(X_train, y_train)\n",
    "y_rf_pred=rf_model.predict(X_test)\n",
    "   \n"
   ]
  },
  {
   "cell_type": "code",
   "execution_count": null,
   "metadata": {},
   "outputs": [],
   "source": [
    "accuracy = accuracy_score(y_test, y_rf_pred)\n",
    "print(\"Accuracy:\", accuracy)"
   ]
  },
  {
   "cell_type": "code",
   "execution_count": null,
   "metadata": {},
   "outputs": [],
   "source": [
    "from sklearn.ensemble import GradientBoostingClassifier\n",
    "\n",
    "param_grid = {'max_depth':[4,8,10],'n_estimators':[25,50,100,200,300]}\n",
    "print('Running grid search')\n",
    "gbdt_model = GradientBoostingClassifier()\n",
    "GBDT_grid = GridSearchCV(gbdt_model,param_grid,cv=3, scoring='neg_root_mean_squared_error')\n",
    "GBDT_grid_search = GBDT_grid.fit(X_train,y_train)\n",
    "print('finished grid search')\n",
    "\n",
    "\n",
    "GBDT_best_params= GBDT_grid_search.best_params_\n",
    "print(f\"best parameters for GBDT model: {GBDT_best_params}\")\n",
    "\n",
    "gbdt_model = GradientBoostingClassifier(max_depth=GBDT_best_params['max_depth'], n_estimators=GBDT_best_params['n_estimators'])\n",
    "gbdt_model.fit(X_train,y_train)\n",
    "y_gbdt_pred =  gbdt_model.predict(X_test)\n"
   ]
  },
  {
   "cell_type": "code",
   "execution_count": null,
   "metadata": {},
   "outputs": [],
   "source": [
    "accuracy = accuracy_score(y_test, y_gbdt_pred)\n",
    "print(\"Accuracy:\", accuracy)"
   ]
  },
  {
   "cell_type": "code",
   "execution_count": null,
   "metadata": {},
   "outputs": [],
   "source": []
  }
 ],
 "metadata": {
  "kernelspec": {
   "display_name": "venv",
   "language": "python",
   "name": "python3"
  },
  "language_info": {
   "codemirror_mode": {
    "name": "ipython",
    "version": 3
   },
   "file_extension": ".py",
   "mimetype": "text/x-python",
   "name": "python",
   "nbconvert_exporter": "python",
   "pygments_lexer": "ipython3",
   "version": "3.9.12"
  },
  "orig_nbformat": 4
 },
 "nbformat": 4,
 "nbformat_minor": 2
}
